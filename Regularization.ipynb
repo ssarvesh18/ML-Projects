{
 "cells": [
  {
   "cell_type": "code",
   "execution_count": 4,
   "metadata": {},
   "outputs": [],
   "source": [
    "# RIDGE REGRESSION\n",
    "\n",
    "# USED IN CASE OF SMALL DATA SIZE TO PREVENT OVERFITTING (!! WHEN SAMPLE SIZE IS MUCH LESSER THAN NUMBER OF FEATURES)\n",
    "# WE INTRODUCE BIAS INTO DATA TO PREVENT OVERFITTING THE TRAINING DATA\n",
    "# THIS RESULTS IN REDUCED VARIANCE WHEN THE TESTING DATA IS PREDICTED\n",
    "# IT REDUCES  (SUM (SQUARE OF RESIDUALS) + (LAMBDA) x (SLOPE)^2)\n",
    "# LAMBDA - HOW SEVERE THE PENALTY IS\n",
    "# SLOPE^2 - ADDS PENALTY TO LEAST SQUARE METHOD\n",
    "# IF SLOPE OF LINE IS SMALL THE SENSITIVITY OF PREDICITON IS LESS\n",
    "# PREDICTION WITH RIDGE REGRESSION LINE IS LESS SENSITIVE TO WEIGHTS THAN PREDICTION WITH LEAST SQUARE ERROR LINE\n",
    "# LAMBDA CAN BE 0 - INFINITE\n",
    "# LARGER THE LAMBDA => LESSER THE SLOPE\n",
    "# CAN BE USED IN LOGISTIC REGRESSION AS WELL\n",
    "# EVERY PARAMETER EXCEPT THE BIAS IS USED FOR REGULARIZATION IS CASE OF MULTIPLE FEATURES"
   ]
  },
  {
   "cell_type": "code",
   "execution_count": 5,
   "metadata": {},
   "outputs": [],
   "source": [
    "# LASSO REGRESSION \n",
    "# SIMILAR TO RIDGE REGRESSION \n",
    "# IT REDUCES  (SUM (SQUARE OF RESIDUALS) + (LAMBDA) x |(SLOPE)|)\n",
    "# UNLIKE RIDGE LASSO CAN SHRINK THE SLOPE ALL THE WAY DOWN TO ZERO WITH INCREASE IN LAMBDA\n",
    "# SIMILAR TO RIDGE REGRESSION THE DIFFERENT FEATURES SHRINK IN DIFFERENT AMOUNT\n",
    "# IT COMPLETELY REMOVES USELESS VARIABLES ( UNLIKE RIDGE WHICH TAKES ALL VARIABLES INTO CONSIDERATION)"
   ]
  },
  {
   "cell_type": "code",
   "execution_count": null,
   "metadata": {},
   "outputs": [],
   "source": [
    "# ELASTIC NET REGRESSION \n",
    "# USED WHEN THERE ARE TONS OF FEATURES BUT WE DONT KNOW WHETHER THEY ARE USEFUL OR NOT\n",
    "# IT COMBINES THE LASSO REG PENALTY AND THE RIDGE REG PENALTY\n",
    "# THE LAMBDA VALUES ARE SEPERATE/DIFFERENT\n",
    "# VERY USEFUL WHEN THERE IS CORRELATION AMONG PARAMETERS"
   ]
  }
 ],
 "metadata": {
  "kernelspec": {
   "display_name": "Python 3",
   "language": "python",
   "name": "python3"
  },
  "language_info": {
   "codemirror_mode": {
    "name": "ipython",
    "version": 3
   },
   "file_extension": ".py",
   "mimetype": "text/x-python",
   "name": "python",
   "nbconvert_exporter": "python",
   "pygments_lexer": "ipython3",
   "version": "3.7.3"
  }
 },
 "nbformat": 4,
 "nbformat_minor": 2
}
