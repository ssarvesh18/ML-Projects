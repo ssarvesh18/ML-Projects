{
 "cells": [
  {
   "cell_type": "code",
   "execution_count": null,
   "metadata": {},
   "outputs": [],
   "source": [
    "# Linear Discriminant Analysis (LDA) \n",
    "\n",
    "# LDA IS LIKE PCA BUT FOCUSES ON MAXIMIZING THE SEPERABILITY AMONG KNOWN CATEGORIES\n",
    "# IT CREATES A NEW AXIS AND PROJECTS THE DATA ONTO THIS AXIS IN SUCH A WAY THAT SEPERABILITY IS MAXIMIZED\n",
    "# ONCE IT IS PROJECTED ONTO THE NEW AXIS THE DISTANCE BETWEEN THEIR MEANS SHOULD BE MAXIMIZED\n",
    "# VARIATION OF EACH CATEGORY SHOULD BE MINIMIZED SIMULTANEOUSLY\n",
    "# ( mu1 - mu2 ) / ((s1)^2 - (s2)^2)\n",
    "# IN CASE OF 3 CATEGORIES :-\n",
    "#    A POINT CENTRAL TO ALL 3 CATEGORY IS FOUND AND THE DISTANCE OF THE CENTRAL POINT IN EACH CATEGORY\n",
    "#    AND THE CENTRAL POINT ARE MAZXIMIZED\n",
    "#    WHILE THE SCATTER FOR EACH CATEGORY IS MINIIZED\n",
    "#    (d1^2 + d2^2 + d3^2 )/(s1^2 + s2^2 + s3^2)\n",
    "#    2 AXIS ARE CREATED AS WE NEED A PLANE TO SEPERATE THEM\n",
    "\n",
    "# LDA IS USED TO SEPERATE WHILE PCA USED TO REDUCE\n",
    "# LD1 ACCOUNTS FOR MOST VARIATION AMONG CATEGORIES"
   ]
  }
 ],
 "metadata": {
  "kernelspec": {
   "display_name": "Python 3",
   "language": "python",
   "name": "python3"
  },
  "language_info": {
   "codemirror_mode": {
    "name": "ipython",
    "version": 3
   },
   "file_extension": ".py",
   "mimetype": "text/x-python",
   "name": "python",
   "nbconvert_exporter": "python",
   "pygments_lexer": "ipython3",
   "version": "3.7.3"
  }
 },
 "nbformat": 4,
 "nbformat_minor": 2
}
