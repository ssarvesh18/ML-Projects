{
 "cells": [
  {
   "cell_type": "code",
   "execution_count": null,
   "metadata": {},
   "outputs": [],
   "source": [
    "# SVM\n",
    "\n",
    "# Classification Algorithm\n",
    "# uses kernel trick to model non-linear decision boundary\n",
    "# Hyperplane with maximum margin from the closest points\n",
    "# Maximize the minimum distance\n",
    "# substituing the point in hyperplane will give +ve or -ve value depending on the class it belong to\n",
    "# product of the actual label of class and the predicted label will be +ve if classified correctly else -ve\n",
    "# Slack variable is introduced to avoid overfitting. Hyperparameter C decides the degree of penalization\n",
    "# low C=> underfitting        High C => Overfitting"
   ]
  }
 ],
 "metadata": {
  "kernelspec": {
   "display_name": "Python 3",
   "language": "python",
   "name": "python3"
  },
  "language_info": {
   "codemirror_mode": {
    "name": "ipython",
    "version": 3
   },
   "file_extension": ".py",
   "mimetype": "text/x-python",
   "name": "python",
   "nbconvert_exporter": "python",
   "pygments_lexer": "ipython3",
   "version": "3.6.4"
  }
 },
 "nbformat": 4,
 "nbformat_minor": 2
}
