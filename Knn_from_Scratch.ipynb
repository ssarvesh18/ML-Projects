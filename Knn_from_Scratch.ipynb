{
 "cells": [
  {
   "cell_type": "code",
   "execution_count": 236,
   "metadata": {},
   "outputs": [],
   "source": [
    "import numpy as np\n",
    "import pandas as pd\n",
    "import math\n",
    "from sklearn.datasets import load_iris"
   ]
  },
  {
   "cell_type": "code",
   "execution_count": 237,
   "metadata": {},
   "outputs": [],
   "source": [
    "def eucliddist(a,b):                    ##  Function for finding euclidian distance  \n",
    "    s=0                                 ##  from particular testing point and all\n",
    "    for i in range(len(a)):             ##  the other training points.\n",
    "        s=s+(a[i]-b[i])**2\n",
    "    s=s**.5\n",
    "    return s"
   ]
  },
  {
   "cell_type": "code",
   "execution_count": 238,
   "metadata": {},
   "outputs": [],
   "source": [
    "def maxvote(c):\n",
    "    q=[]                            ##  function for finding the output value with most number of votes\n",
    "    n=[]                            ##  considering k nearest neighbours\n",
    "    r=[]\n",
    "    k=[]\n",
    "    for i in range(len(c)):         ##  extracting the\n",
    "        q.append(c[i][1])           ##  possible output \n",
    "    for i in q:                     ## values for the \n",
    "        if i not in r:              ##  given training \n",
    "            r.append(i)             ##  data\n",
    "    for i in range(len(r)):        \n",
    "        d=q.count(r[i])            \n",
    "        n.append(d)             ## finding the  \n",
    "        n.append(r[i])          ## number of \n",
    "        k.append(n)             ## votes for each value\n",
    "        n=[]\n",
    "    k.sort()                    ## sorting the values and returning\n",
    "    k.reverse()                 ##  the one with the maximum count\n",
    "    return k[0][1]"
   ]
  },
  {
   "cell_type": "code",
   "execution_count": 241,
   "metadata": {},
   "outputs": [],
   "source": [
    "def accuracy(t,y):                  ## list of Predicted values , correct values of output given respectively\n",
    "    correct=0\n",
    "    total=len(t)\n",
    "    for i in range(len(t)):\n",
    "        if t[i]==ytest[i]:\n",
    "            correct=correct+1       ## checking for each value if predicted and actual value is same\n",
    "    return (correct/total)          ## Find total perccent of correctly predicted data"
   ]
  },
  {
   "cell_type": "code",
   "execution_count": 258,
   "metadata": {},
   "outputs": [],
   "source": [
    "d=load_iris()                         ## loading the iris dataset\n",
    "x=d.data                        \n",
    "xtrain=np.array(x[0:110])             ## 0:110 given as training dataset\n",
    "xtest=np.array(x[100:110])            ## 110:150 given as testing dataset\n",
    "y=d.target                            \n",
    "ytrain=y[0:110]                       ## 0:110 training targets\n",
    "ytest=y[100:110]                      ## 110:150 testing targets"
   ]
  },
  {
   "cell_type": "code",
   "execution_count": 259,
   "metadata": {},
   "outputs": [],
   "source": [
    "l=[]\n",
    "m=[]\n",
    "t=[]\n",
    "for i in range(len(ytest)):                       ## outer loop iteration for number of finding each testing inputs output\n",
    "    for j in range(len(ytrain)):                  ## inner loop for finding Euclidian distance of input from each training input\n",
    "        l.append(eucliddist(xtest[i],xtrain[j]))  ## finding Euclidian distance between the ith testing and all j training datas\n",
    "        l.append(ytrain[j])                       ## storing the distance along with the corresponding training data class\n",
    "        m.append(l)                               ## class value(0 or  1 or  2 in case of iris)\n",
    "        l=[]\n",
    "    m.sort()                                      ## arranging in ascending order and\n",
    "    m=m[0:3]                                      ## selecting the 5 nearest(m[0],m[1]...m[4] ) distance along with their class values\n",
    "    t.append(maxvote(m))                          ## storing all the predicted class values of the tested data into target list"
   ]
  },
  {
   "cell_type": "code",
   "execution_count": 260,
   "metadata": {},
   "outputs": [
    {
     "data": {
      "text/plain": [
       "1.0"
      ]
     },
     "execution_count": 260,
     "metadata": {},
     "output_type": "execute_result"
    }
   ],
   "source": [
    "accuracy(t,ytest)                                 ## checking for accuracy oercentage"
   ]
  },
  {
   "cell_type": "code",
   "execution_count": 261,
   "metadata": {},
   "outputs": [
    {
     "data": {
      "text/plain": [
       "[2, 2, 2, 2, 2, 2, 2, 2, 2, 2]"
      ]
     },
     "execution_count": 261,
     "metadata": {},
     "output_type": "execute_result"
    }
   ],
   "source": [
    "t"
   ]
  },
  {
   "cell_type": "code",
   "execution_count": 254,
   "metadata": {},
   "outputs": [
    {
     "data": {
      "text/plain": [
       "array([0, 0, 0, 0, 0, 0, 0, 0, 0, 0, 1, 1, 1, 1, 1, 1, 1, 1, 1, 1, 1, 1,\n",
       "       1, 1, 1, 1, 1, 1, 1, 1, 1, 1, 1, 1, 1, 1, 1, 1, 1, 1])"
      ]
     },
     "execution_count": 254,
     "metadata": {},
     "output_type": "execute_result"
    }
   ],
   "source": [
    "ytest"
   ]
  },
  {
   "cell_type": "code",
   "execution_count": 180,
   "metadata": {},
   "outputs": [],
   "source": []
  },
  {
   "cell_type": "code",
   "execution_count": 181,
   "metadata": {},
   "outputs": [],
   "source": []
  },
  {
   "cell_type": "code",
   "execution_count": null,
   "metadata": {},
   "outputs": [],
   "source": []
  }
 ],
 "metadata": {
  "kernelspec": {
   "display_name": "Python 3",
   "language": "python",
   "name": "python3"
  },
  "language_info": {
   "codemirror_mode": {
    "name": "ipython",
    "version": 3
   },
   "file_extension": ".py",
   "mimetype": "text/x-python",
   "name": "python",
   "nbconvert_exporter": "python",
   "pygments_lexer": "ipython3",
   "version": "3.6.4"
  }
 },
 "nbformat": 4,
 "nbformat_minor": 2
}
